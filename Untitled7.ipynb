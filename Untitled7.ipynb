{
  "nbformat": 4,
  "nbformat_minor": 0,
  "metadata": {
    "colab": {
      "provenance": [],
      "authorship_tag": "ABX9TyNsJv6pfEQoJUzRD0wsjsnF",
      "include_colab_link": true
    },
    "kernelspec": {
      "name": "python3",
      "display_name": "Python 3"
    },
    "language_info": {
      "name": "python"
    }
  },
  "cells": [
    {
      "cell_type": "markdown",
      "metadata": {
        "id": "view-in-github",
        "colab_type": "text"
      },
      "source": [
        "<a href=\"https://colab.research.google.com/github/archimisra/Python-if-else-loop-q-s/blob/main/Untitled7.ipynb\" target=\"_parent\"><img src=\"https://colab.research.google.com/assets/colab-badge.svg\" alt=\"Open In Colab\"/></a>"
      ]
    },
    {
      "cell_type": "code",
      "execution_count": 1,
      "metadata": {
        "colab": {
          "base_uri": "https://localhost:8080/"
        },
        "id": "EbBTilX04t7d",
        "outputId": "7c19bf7d-6462-49bd-a4ef-8c0333cbef71"
      },
      "outputs": [
        {
          "output_type": "stream",
          "name": "stdout",
          "text": [
            "enter a number5\n",
            "odd\n"
          ]
        }
      ],
      "source": [
        "a = int(input(\"enter a number\"))\n",
        "if a % 2 == 0:\n",
        "  print(\"even\")\n",
        "else:\n",
        "  print(\"odd\")"
      ]
    },
    {
      "cell_type": "code",
      "source": [
        "a = int(input(\"enter marks(0-100):\"))\n",
        "if a >= 50:\n",
        "  print(\"pass\")\n",
        "elif a >= 90:\n",
        "  print(\"distinction\")\n",
        "else:\n",
        "  print(\"fail\")"
      ],
      "metadata": {
        "colab": {
          "base_uri": "https://localhost:8080/"
        },
        "id": "qQ_vbMuw5Odm",
        "outputId": "9f164188-b23c-4661-e294-a9cf985505ae"
      },
      "execution_count": 2,
      "outputs": [
        {
          "output_type": "stream",
          "name": "stdout",
          "text": [
            "enter marks(0-100):70\n",
            "pass\n"
          ]
        }
      ]
    },
    {
      "cell_type": "code",
      "source": [
        "a = int(input(\"enter age:\"))\n",
        "if a >= 18:\n",
        "  print(\"eligible to vote\")\n",
        "elif a >= 21:\n",
        "  print(\"also eligible to applying fo rdriving liscence\")\n",
        "else:\n",
        "  print(\"not eligible\")"
      ],
      "metadata": {
        "colab": {
          "base_uri": "https://localhost:8080/"
        },
        "id": "e_W9tVC_50IB",
        "outputId": "3cb233b0-1ae1-4d3f-bf4a-81043dbc5ea2"
      },
      "execution_count": 3,
      "outputs": [
        {
          "output_type": "stream",
          "name": "stdout",
          "text": [
            "enter age:12\n",
            "not eligible\n"
          ]
        }
      ]
    },
    {
      "cell_type": "code",
      "source": [
        "a = 2\n",
        "b = 3\n",
        "c = 10\n",
        "print(\"largest:\", max(a,b,c))"
      ],
      "metadata": {
        "colab": {
          "base_uri": "https://localhost:8080/"
        },
        "id": "CvvnBoPQ6Qx4",
        "outputId": "907595f9-8d68-4712-d6a8-68fa6c4a18f9"
      },
      "execution_count": 4,
      "outputs": [
        {
          "output_type": "stream",
          "name": "stdout",
          "text": [
            "largest: 10\n"
          ]
        }
      ]
    },
    {
      "cell_type": "code",
      "source": [
        "a = 2\n",
        "b = 10\n",
        "c = 11\n",
        "if a > b & a > c:\n",
        "  print(\"largest: a=\", a)\n",
        "elif b > a & b > c:\n",
        "  print(\"largest: b=\", b)\n",
        "elif c > b & c > a:\n",
        "  print(\"largest: c=\", c)\n",
        "else:\n",
        "  print(\"invalid operation\")"
      ],
      "metadata": {
        "colab": {
          "base_uri": "https://localhost:8080/"
        },
        "id": "VOp-o8Xx6f3g",
        "outputId": "29ffd954-3a94-416c-ba30-719af0b4a5d4"
      },
      "execution_count": 7,
      "outputs": [
        {
          "output_type": "stream",
          "name": "stdout",
          "text": [
            "largest: c= 11\n"
          ]
        }
      ]
    },
    {
      "cell_type": "code",
      "source": [
        "\n",
        "a = '123'\n",
        "b = 'archi'\n",
        "c = 'a,e,i,o,u'\n",
        "print(type(a))\n"
      ],
      "metadata": {
        "colab": {
          "base_uri": "https://localhost:8080/"
        },
        "id": "b4xHHAqy7anE",
        "outputId": "2fc406cd-d62f-4279-9a20-112787935c56"
      },
      "execution_count": 8,
      "outputs": [
        {
          "output_type": "stream",
          "name": "stdout",
          "text": [
            "<class 'str'>\n"
          ]
        }
      ]
    },
    {
      "cell_type": "code",
      "source": [
        "a = 12\n",
        "b = 12\n",
        "c = 4\n",
        "if a == b == c:\n",
        "  print(\"it i san equilateral triangle\")\n",
        "elif a == b != c:\n",
        "  print(\"it is an isoceles triangle\")\n",
        "elif a != b != c:\n",
        "  print(\"it is a scalane triangle\")\n",
        "else:\n",
        "  print(\"invalid operation\")"
      ],
      "metadata": {
        "colab": {
          "base_uri": "https://localhost:8080/"
        },
        "id": "ZQb-inWj8pJg",
        "outputId": "8d430391-1123-48ed-8601-58da52d34167"
      },
      "execution_count": 9,
      "outputs": [
        {
          "output_type": "stream",
          "name": "stdout",
          "text": [
            "it is an isoceles triangle\n"
          ]
        }
      ]
    },
    {
      "cell_type": "code",
      "source": [
        "i = 1\n",
        "while i <= 10:\n",
        "  print(i)\n",
        "  i += 1"
      ],
      "metadata": {
        "colab": {
          "base_uri": "https://localhost:8080/"
        },
        "id": "wLDn3VkSBmMS",
        "outputId": "be30c1fa-3113-4997-a72c-4fd05fd1bc21"
      },
      "execution_count": 11,
      "outputs": [
        {
          "output_type": "stream",
          "name": "stdout",
          "text": [
            "1\n",
            "2\n",
            "3\n",
            "4\n",
            "5\n",
            "6\n",
            "7\n",
            "8\n",
            "9\n",
            "10\n"
          ]
        }
      ]
    },
    {
      "cell_type": "code",
      "source": [
        "a = 2\n",
        "while a <= 20:\n",
        "  print(a)\n",
        "  a += 2"
      ],
      "metadata": {
        "colab": {
          "base_uri": "https://localhost:8080/"
        },
        "id": "e9rFjVzBBzjN",
        "outputId": "f5fffc78-db9e-4238-c6ed-aa1d461f4f96"
      },
      "execution_count": 13,
      "outputs": [
        {
          "output_type": "stream",
          "name": "stdout",
          "text": [
            "2\n",
            "4\n",
            "6\n",
            "8\n",
            "10\n",
            "12\n",
            "14\n",
            "16\n",
            "18\n",
            "20\n"
          ]
        }
      ]
    },
    {
      "cell_type": "code",
      "source": [
        "a = 3\n",
        "while a <= 30:\n",
        "  print(a)\n",
        "  a += 3"
      ],
      "metadata": {
        "colab": {
          "base_uri": "https://localhost:8080/"
        },
        "id": "5yaA1GKhDSjV",
        "outputId": "deebbcad-bf44-4d40-eea4-0a00ac210c5f"
      },
      "execution_count": 14,
      "outputs": [
        {
          "output_type": "stream",
          "name": "stdout",
          "text": [
            "3\n",
            "6\n",
            "9\n",
            "12\n",
            "15\n",
            "18\n",
            "21\n",
            "24\n",
            "27\n",
            "30\n"
          ]
        }
      ]
    },
    {
      "cell_type": "code",
      "source": [
        "N = int(input(\"enter a number:\"))\n",
        "i = 1\n",
        "total = 0\n",
        "\n",
        "while i <= N:\n",
        "  total += i\n",
        "  i += 1\n",
        "  print(\"the sum of first\", N, \" natural number is\", total)"
      ],
      "metadata": {
        "colab": {
          "base_uri": "https://localhost:8080/"
        },
        "id": "KCCvEIIrDeRG",
        "outputId": "fc8f354d-ee2b-46ef-ffc4-6320b75dd4b0"
      },
      "execution_count": 3,
      "outputs": [
        {
          "output_type": "stream",
          "name": "stdout",
          "text": [
            "enter a number:5\n",
            "the sum of first 5  natural number is 1\n",
            "the sum of first 5  natural number is 3\n",
            "the sum of first 5  natural number is 6\n",
            "the sum of first 5  natural number is 10\n",
            "the sum of first 5  natural number is 15\n"
          ]
        }
      ]
    },
    {
      "cell_type": "code",
      "source": [
        "i = 10\n",
        "while i>=1:\n",
        "  print(i)\n",
        "  i -= 1"
      ],
      "metadata": {
        "colab": {
          "base_uri": "https://localhost:8080/"
        },
        "id": "mOSs9-rvkS1D",
        "outputId": "903c7c4b-4517-48b6-9c7f-3899133f6548"
      },
      "execution_count": 7,
      "outputs": [
        {
          "output_type": "stream",
          "name": "stdout",
          "text": [
            "10\n",
            "9\n",
            "8\n",
            "7\n",
            "6\n",
            "5\n",
            "4\n",
            "3\n",
            "2\n",
            "1\n"
          ]
        }
      ]
    }
  ]
}